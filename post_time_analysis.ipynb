{
 "cells": [
  {
   "cell_type": "code",
   "execution_count": 4,
   "id": "bb53eb84-f226-4908-97e4-edcab6626f85",
   "metadata": {},
   "outputs": [],
   "source": [
    "import pandas as pd\n",
    "from twitterscraper import scrapeProfile"
   ]
  },
  {
   "cell_type": "markdown",
   "id": "ce99d2e4",
   "metadata": {},
   "source": [
    "## Scrape your profile into a csv\n",
    "Set twitterUser to your Twitter handle."
   ]
  },
  {
   "cell_type": "code",
   "execution_count": null,
   "id": "30b6d499",
   "metadata": {},
   "outputs": [],
   "source": [
    "twitterUser = 'yourTwitterHandleHere'\n",
    "\n",
    "scrapeProfile(twitterUser, twitterUser+'.csv')"
   ]
  },
  {
   "cell_type": "markdown",
   "id": "226141c1",
   "metadata": {},
   "source": [
    "## Open the created CSV in pandas and clean up data"
   ]
  },
  {
   "cell_type": "code",
   "execution_count": 5,
   "id": "2cbbb545-c6d6-4023-ac1f-1b849bae86a7",
   "metadata": {},
   "outputs": [],
   "source": [
    "# function for converting like counts such as 3.3k into numbers 3300\n",
    "def convert_to_string(row):\n",
    "    try:\n",
    "        if type(row) == type(str()):\n",
    "            if row.find('K') != -1:\n",
    "                row = row.replace('.', '')\n",
    "                row = row.replace('K', '')\n",
    "                row = row + '00'\n",
    "                return(int(row))\n",
    "            else:\n",
    "                return(int(row))\n",
    "        else:\n",
    "            return(row)\n",
    "    except:\n",
    "        print(row)"
   ]
  },
  {
   "cell_type": "code",
   "execution_count": 6,
   "id": "bff38c37-3ee9-41df-ae2f-eaa10f5cce9c",
   "metadata": {},
   "outputs": [],
   "source": [
    "df = pd.read_csv('dankornas.csv')\n",
    "df = df.drop(['User','Handle'], axis=1)\n",
    "df = df.fillna(0)\n",
    "\n",
    "df['LikeCount'] = df['LikeCount'].apply(convert_to_string)\n",
    "df[['ReplyCount', 'RetweetCount', 'LikeCount']] = df[['ReplyCount', 'RetweetCount', 'LikeCount']].astype(int)\n",
    "\n",
    "df.PostDate = pd.to_datetime(df.PostDate)"
   ]
  },
  {
   "cell_type": "code",
   "execution_count": 7,
   "id": "6d425bc3-2b8c-44a5-8380-f9a6228c4f6f",
   "metadata": {},
   "outputs": [
    {
     "data": {
      "text/html": [
       "<div>\n",
       "<style scoped>\n",
       "    .dataframe tbody tr th:only-of-type {\n",
       "        vertical-align: middle;\n",
       "    }\n",
       "\n",
       "    .dataframe tbody tr th {\n",
       "        vertical-align: top;\n",
       "    }\n",
       "\n",
       "    .dataframe thead th {\n",
       "        text-align: right;\n",
       "    }\n",
       "</style>\n",
       "<table border=\"1\" class=\"dataframe\">\n",
       "  <thead>\n",
       "    <tr style=\"text-align: right;\">\n",
       "      <th></th>\n",
       "      <th>PostDate</th>\n",
       "      <th>TweetText</th>\n",
       "      <th>ReplyCount</th>\n",
       "      <th>RetweetCount</th>\n",
       "      <th>LikeCount</th>\n",
       "    </tr>\n",
       "  </thead>\n",
       "  <tbody>\n",
       "    <tr>\n",
       "      <th>0</th>\n",
       "      <td>2021-12-22 21:34:45+00:00</td>\n",
       "      <td>I'm definitely the left side, still have to ex...</td>\n",
       "      <td>0</td>\n",
       "      <td>0</td>\n",
       "      <td>1</td>\n",
       "    </tr>\n",
       "    <tr>\n",
       "      <th>1</th>\n",
       "      <td>2021-12-22 15:33:47+00:00</td>\n",
       "      <td>Looks about right  And then debugging every st...</td>\n",
       "      <td>0</td>\n",
       "      <td>1</td>\n",
       "      <td>4</td>\n",
       "    </tr>\n",
       "    <tr>\n",
       "      <th>2</th>\n",
       "      <td>2021-12-22 11:35:59+00:00</td>\n",
       "      <td>Day 5 of #100DaysOfCode \\n\\nAfter scraping MY ...</td>\n",
       "      <td>13</td>\n",
       "      <td>13</td>\n",
       "      <td>56</td>\n",
       "    </tr>\n",
       "    <tr>\n",
       "      <th>3</th>\n",
       "      <td>2021-12-21 21:13:34+00:00</td>\n",
       "      <td>Day 4 of #100DaysOfCode \\n\\nToday was a \"clean...</td>\n",
       "      <td>0</td>\n",
       "      <td>11</td>\n",
       "      <td>6</td>\n",
       "    </tr>\n",
       "    <tr>\n",
       "      <th>4</th>\n",
       "      <td>2021-12-21 16:58:07+00:00</td>\n",
       "      <td>Important Statistics #DataScientists Need to ...</td>\n",
       "      <td>0</td>\n",
       "      <td>2</td>\n",
       "      <td>8</td>\n",
       "    </tr>\n",
       "    <tr>\n",
       "      <th>...</th>\n",
       "      <td>...</td>\n",
       "      <td>...</td>\n",
       "      <td>...</td>\n",
       "      <td>...</td>\n",
       "      <td>...</td>\n",
       "    </tr>\n",
       "    <tr>\n",
       "      <th>220</th>\n",
       "      <td>2021-06-29 15:13:42+00:00</td>\n",
       "      <td>I have a feeling there is going to be a GPT-3 ...</td>\n",
       "      <td>0</td>\n",
       "      <td>0</td>\n",
       "      <td>1</td>\n",
       "    </tr>\n",
       "    <tr>\n",
       "      <th>221</th>\n",
       "      <td>2021-06-29 07:52:50+00:00</td>\n",
       "      <td>Docker is one of these most essential tools ne...</td>\n",
       "      <td>0</td>\n",
       "      <td>0</td>\n",
       "      <td>0</td>\n",
       "    </tr>\n",
       "    <tr>\n",
       "      <th>222</th>\n",
       "      <td>2021-06-27 19:23:25+00:00</td>\n",
       "      <td>Excellent thread. On point!  #MachineLearningA...</td>\n",
       "      <td>0</td>\n",
       "      <td>0</td>\n",
       "      <td>1</td>\n",
       "    </tr>\n",
       "    <tr>\n",
       "      <th>223</th>\n",
       "      <td>2021-06-26 08:23:54+00:00</td>\n",
       "      <td>A clutter free desk = a clutter free mind. It'...</td>\n",
       "      <td>0</td>\n",
       "      <td>0</td>\n",
       "      <td>0</td>\n",
       "    </tr>\n",
       "    <tr>\n",
       "      <th>224</th>\n",
       "      <td>2021-06-25 13:13:55+00:00</td>\n",
       "      <td>&gt;&gt; print(\"Hello World!\")\\n#code #MachineLearni...</td>\n",
       "      <td>0</td>\n",
       "      <td>2</td>\n",
       "      <td>1</td>\n",
       "    </tr>\n",
       "  </tbody>\n",
       "</table>\n",
       "<p>225 rows × 5 columns</p>\n",
       "</div>"
      ],
      "text/plain": [
       "                     PostDate  \\\n",
       "0   2021-12-22 21:34:45+00:00   \n",
       "1   2021-12-22 15:33:47+00:00   \n",
       "2   2021-12-22 11:35:59+00:00   \n",
       "3   2021-12-21 21:13:34+00:00   \n",
       "4   2021-12-21 16:58:07+00:00   \n",
       "..                        ...   \n",
       "220 2021-06-29 15:13:42+00:00   \n",
       "221 2021-06-29 07:52:50+00:00   \n",
       "222 2021-06-27 19:23:25+00:00   \n",
       "223 2021-06-26 08:23:54+00:00   \n",
       "224 2021-06-25 13:13:55+00:00   \n",
       "\n",
       "                                             TweetText  ReplyCount  \\\n",
       "0    I'm definitely the left side, still have to ex...           0   \n",
       "1    Looks about right  And then debugging every st...           0   \n",
       "2    Day 5 of #100DaysOfCode \\n\\nAfter scraping MY ...          13   \n",
       "3    Day 4 of #100DaysOfCode \\n\\nToday was a \"clean...           0   \n",
       "4     Important Statistics #DataScientists Need to ...           0   \n",
       "..                                                 ...         ...   \n",
       "220  I have a feeling there is going to be a GPT-3 ...           0   \n",
       "221  Docker is one of these most essential tools ne...           0   \n",
       "222  Excellent thread. On point!  #MachineLearningA...           0   \n",
       "223  A clutter free desk = a clutter free mind. It'...           0   \n",
       "224  >> print(\"Hello World!\")\\n#code #MachineLearni...           0   \n",
       "\n",
       "     RetweetCount  LikeCount  \n",
       "0               0          1  \n",
       "1               1          4  \n",
       "2              13         56  \n",
       "3              11          6  \n",
       "4               2          8  \n",
       "..            ...        ...  \n",
       "220             0          1  \n",
       "221             0          0  \n",
       "222             0          1  \n",
       "223             0          0  \n",
       "224             2          1  \n",
       "\n",
       "[225 rows x 5 columns]"
      ]
     },
     "execution_count": 7,
     "metadata": {},
     "output_type": "execute_result"
    }
   ],
   "source": [
    "df"
   ]
  },
  {
   "cell_type": "markdown",
   "id": "69095054",
   "metadata": {},
   "source": [
    "## Create new features from dates"
   ]
  },
  {
   "cell_type": "code",
   "execution_count": 8,
   "id": "b86c2bd0-cb43-4c8c-8d5f-b2d2b2bb1af3",
   "metadata": {},
   "outputs": [],
   "source": [
    "# extract month feature\n",
    "months = df.PostDate.dt.month\n",
    "months = pd.DataFrame(months)\n",
    "months.columns = ['months']\n",
    "\n",
    "# extract day of month feature\n",
    "day_of_months = df.PostDate.dt.day\n",
    "day_of_months = pd.DataFrame(day_of_months)\n",
    "day_of_months.columns = ['day_of_months']\n",
    "\n",
    "# extract hour feature\n",
    "hours = df.PostDate.dt.hour\n",
    "hours = pd.DataFrame(hours)\n",
    "hours.columns = ['hours']\n",
    "\n",
    "# extract the day name literal\n",
    "days = df.PostDate.dt.day_name()\n",
    "days = pd.DataFrame(days)\n",
    "days.columns = ['days']\n",
    "\n",
    "# is_weekend flag \n",
    "day_names = df.PostDate.dt.day_name()\n",
    "is_weekend = day_names.apply(lambda x : 1 if x in ['Saturday','Sunday'] else 0)\n",
    "\n",
    "is_weekend = pd.DataFrame(is_weekend)\n",
    "is_weekend.columns = ['is_weekend']"
   ]
  },
  {
   "cell_type": "code",
   "execution_count": 9,
   "id": "6b36a62e-6002-46ba-a0d5-4ebeceea881e",
   "metadata": {
    "tags": []
   },
   "outputs": [
    {
     "data": {
      "text/html": [
       "<div>\n",
       "<style scoped>\n",
       "    .dataframe tbody tr th:only-of-type {\n",
       "        vertical-align: middle;\n",
       "    }\n",
       "\n",
       "    .dataframe tbody tr th {\n",
       "        vertical-align: top;\n",
       "    }\n",
       "\n",
       "    .dataframe thead th {\n",
       "        text-align: right;\n",
       "    }\n",
       "</style>\n",
       "<table border=\"1\" class=\"dataframe\">\n",
       "  <thead>\n",
       "    <tr style=\"text-align: right;\">\n",
       "      <th></th>\n",
       "      <th>PostDate</th>\n",
       "      <th>TweetText</th>\n",
       "      <th>ReplyCount</th>\n",
       "      <th>RetweetCount</th>\n",
       "      <th>LikeCount</th>\n",
       "      <th>hours</th>\n",
       "      <th>days</th>\n",
       "      <th>day_of_months</th>\n",
       "      <th>months</th>\n",
       "      <th>is_weekend</th>\n",
       "    </tr>\n",
       "  </thead>\n",
       "  <tbody>\n",
       "    <tr>\n",
       "      <th>0</th>\n",
       "      <td>2021-12-22 21:34:45+00:00</td>\n",
       "      <td>I'm definitely the left side, still have to ex...</td>\n",
       "      <td>0</td>\n",
       "      <td>0</td>\n",
       "      <td>1</td>\n",
       "      <td>21</td>\n",
       "      <td>Wednesday</td>\n",
       "      <td>22</td>\n",
       "      <td>12</td>\n",
       "      <td>0</td>\n",
       "    </tr>\n",
       "    <tr>\n",
       "      <th>1</th>\n",
       "      <td>2021-12-22 15:33:47+00:00</td>\n",
       "      <td>Looks about right  And then debugging every st...</td>\n",
       "      <td>0</td>\n",
       "      <td>1</td>\n",
       "      <td>4</td>\n",
       "      <td>15</td>\n",
       "      <td>Wednesday</td>\n",
       "      <td>22</td>\n",
       "      <td>12</td>\n",
       "      <td>0</td>\n",
       "    </tr>\n",
       "    <tr>\n",
       "      <th>2</th>\n",
       "      <td>2021-12-22 11:35:59+00:00</td>\n",
       "      <td>Day 5 of #100DaysOfCode \\n\\nAfter scraping MY ...</td>\n",
       "      <td>13</td>\n",
       "      <td>13</td>\n",
       "      <td>56</td>\n",
       "      <td>11</td>\n",
       "      <td>Wednesday</td>\n",
       "      <td>22</td>\n",
       "      <td>12</td>\n",
       "      <td>0</td>\n",
       "    </tr>\n",
       "    <tr>\n",
       "      <th>3</th>\n",
       "      <td>2021-12-21 21:13:34+00:00</td>\n",
       "      <td>Day 4 of #100DaysOfCode \\n\\nToday was a \"clean...</td>\n",
       "      <td>0</td>\n",
       "      <td>11</td>\n",
       "      <td>6</td>\n",
       "      <td>21</td>\n",
       "      <td>Tuesday</td>\n",
       "      <td>21</td>\n",
       "      <td>12</td>\n",
       "      <td>0</td>\n",
       "    </tr>\n",
       "    <tr>\n",
       "      <th>4</th>\n",
       "      <td>2021-12-21 16:58:07+00:00</td>\n",
       "      <td>Important Statistics #DataScientists Need to ...</td>\n",
       "      <td>0</td>\n",
       "      <td>2</td>\n",
       "      <td>8</td>\n",
       "      <td>16</td>\n",
       "      <td>Tuesday</td>\n",
       "      <td>21</td>\n",
       "      <td>12</td>\n",
       "      <td>0</td>\n",
       "    </tr>\n",
       "    <tr>\n",
       "      <th>...</th>\n",
       "      <td>...</td>\n",
       "      <td>...</td>\n",
       "      <td>...</td>\n",
       "      <td>...</td>\n",
       "      <td>...</td>\n",
       "      <td>...</td>\n",
       "      <td>...</td>\n",
       "      <td>...</td>\n",
       "      <td>...</td>\n",
       "      <td>...</td>\n",
       "    </tr>\n",
       "    <tr>\n",
       "      <th>220</th>\n",
       "      <td>2021-06-29 15:13:42+00:00</td>\n",
       "      <td>I have a feeling there is going to be a GPT-3 ...</td>\n",
       "      <td>0</td>\n",
       "      <td>0</td>\n",
       "      <td>1</td>\n",
       "      <td>15</td>\n",
       "      <td>Tuesday</td>\n",
       "      <td>29</td>\n",
       "      <td>6</td>\n",
       "      <td>0</td>\n",
       "    </tr>\n",
       "    <tr>\n",
       "      <th>221</th>\n",
       "      <td>2021-06-29 07:52:50+00:00</td>\n",
       "      <td>Docker is one of these most essential tools ne...</td>\n",
       "      <td>0</td>\n",
       "      <td>0</td>\n",
       "      <td>0</td>\n",
       "      <td>7</td>\n",
       "      <td>Tuesday</td>\n",
       "      <td>29</td>\n",
       "      <td>6</td>\n",
       "      <td>0</td>\n",
       "    </tr>\n",
       "    <tr>\n",
       "      <th>222</th>\n",
       "      <td>2021-06-27 19:23:25+00:00</td>\n",
       "      <td>Excellent thread. On point!  #MachineLearningA...</td>\n",
       "      <td>0</td>\n",
       "      <td>0</td>\n",
       "      <td>1</td>\n",
       "      <td>19</td>\n",
       "      <td>Sunday</td>\n",
       "      <td>27</td>\n",
       "      <td>6</td>\n",
       "      <td>1</td>\n",
       "    </tr>\n",
       "    <tr>\n",
       "      <th>223</th>\n",
       "      <td>2021-06-26 08:23:54+00:00</td>\n",
       "      <td>A clutter free desk = a clutter free mind. It'...</td>\n",
       "      <td>0</td>\n",
       "      <td>0</td>\n",
       "      <td>0</td>\n",
       "      <td>8</td>\n",
       "      <td>Saturday</td>\n",
       "      <td>26</td>\n",
       "      <td>6</td>\n",
       "      <td>1</td>\n",
       "    </tr>\n",
       "    <tr>\n",
       "      <th>224</th>\n",
       "      <td>2021-06-25 13:13:55+00:00</td>\n",
       "      <td>&gt;&gt; print(\"Hello World!\")\\n#code #MachineLearni...</td>\n",
       "      <td>0</td>\n",
       "      <td>2</td>\n",
       "      <td>1</td>\n",
       "      <td>13</td>\n",
       "      <td>Friday</td>\n",
       "      <td>25</td>\n",
       "      <td>6</td>\n",
       "      <td>0</td>\n",
       "    </tr>\n",
       "  </tbody>\n",
       "</table>\n",
       "<p>225 rows × 10 columns</p>\n",
       "</div>"
      ],
      "text/plain": [
       "                     PostDate  \\\n",
       "0   2021-12-22 21:34:45+00:00   \n",
       "1   2021-12-22 15:33:47+00:00   \n",
       "2   2021-12-22 11:35:59+00:00   \n",
       "3   2021-12-21 21:13:34+00:00   \n",
       "4   2021-12-21 16:58:07+00:00   \n",
       "..                        ...   \n",
       "220 2021-06-29 15:13:42+00:00   \n",
       "221 2021-06-29 07:52:50+00:00   \n",
       "222 2021-06-27 19:23:25+00:00   \n",
       "223 2021-06-26 08:23:54+00:00   \n",
       "224 2021-06-25 13:13:55+00:00   \n",
       "\n",
       "                                             TweetText  ReplyCount  \\\n",
       "0    I'm definitely the left side, still have to ex...           0   \n",
       "1    Looks about right  And then debugging every st...           0   \n",
       "2    Day 5 of #100DaysOfCode \\n\\nAfter scraping MY ...          13   \n",
       "3    Day 4 of #100DaysOfCode \\n\\nToday was a \"clean...           0   \n",
       "4     Important Statistics #DataScientists Need to ...           0   \n",
       "..                                                 ...         ...   \n",
       "220  I have a feeling there is going to be a GPT-3 ...           0   \n",
       "221  Docker is one of these most essential tools ne...           0   \n",
       "222  Excellent thread. On point!  #MachineLearningA...           0   \n",
       "223  A clutter free desk = a clutter free mind. It'...           0   \n",
       "224  >> print(\"Hello World!\")\\n#code #MachineLearni...           0   \n",
       "\n",
       "     RetweetCount  LikeCount  hours       days  day_of_months  months  \\\n",
       "0               0          1     21  Wednesday             22      12   \n",
       "1               1          4     15  Wednesday             22      12   \n",
       "2              13         56     11  Wednesday             22      12   \n",
       "3              11          6     21    Tuesday             21      12   \n",
       "4               2          8     16    Tuesday             21      12   \n",
       "..            ...        ...    ...        ...            ...     ...   \n",
       "220             0          1     15    Tuesday             29       6   \n",
       "221             0          0      7    Tuesday             29       6   \n",
       "222             0          1     19     Sunday             27       6   \n",
       "223             0          0      8   Saturday             26       6   \n",
       "224             2          1     13     Friday             25       6   \n",
       "\n",
       "     is_weekend  \n",
       "0             0  \n",
       "1             0  \n",
       "2             0  \n",
       "3             0  \n",
       "4             0  \n",
       "..          ...  \n",
       "220           0  \n",
       "221           0  \n",
       "222           1  \n",
       "223           1  \n",
       "224           0  \n",
       "\n",
       "[225 rows x 10 columns]"
      ]
     },
     "execution_count": 9,
     "metadata": {},
     "output_type": "execute_result"
    }
   ],
   "source": [
    "features = pd.concat([hours, days, day_of_months, months, is_weekend], axis=1)\n",
    "df_new = pd.concat([df, features], axis=1)\n",
    "df_new"
   ]
  },
  {
   "cell_type": "markdown",
   "id": "9835b701",
   "metadata": {},
   "source": [
    "## Look at your stats"
   ]
  },
  {
   "cell_type": "code",
   "execution_count": 10,
   "id": "c02dd40b",
   "metadata": {},
   "outputs": [
    {
     "data": {
      "text/plain": [
       "<AxesSubplot:title={'center':'Avg Number of Likes based on hour posted (INCLUDING Viral Tweets)'}, xlabel='Hour', ylabel='Avg Number of Likes'>"
      ]
     },
     "execution_count": 10,
     "metadata": {},
     "output_type": "execute_result"
    },
    {
     "data": {
      "image/png": "[encoded data removed]",
      "text/plain": [
       "<Figure size 1152x576 with 1 Axes>"
      ]
     },
     "metadata": {
      "needs_background": "light"
     },
     "output_type": "display_data"
    }
   ],
   "source": [
    "df_new.groupby(['hours'])['LikeCount'].mean().plot.bar(title='Avg Number of Likes based on hour posted (INCLUDING Viral Tweets)', xlabel='Hour', ylabel='Avg Number of Likes', figsize=(16,8))"
   ]
  },
  {
   "cell_type": "code",
   "execution_count": 11,
   "id": "a105170f-88c8-4770-96b7-152faa41bcf7",
   "metadata": {},
   "outputs": [
    {
     "data": {
      "text/plain": [
       "<AxesSubplot:title={'center':'Avg Number of Likes based on hour posted (not including Viral Tweets)'}, xlabel='Hour', ylabel='Avg Number of Likes'>"
      ]
     },
     "execution_count": 11,
     "metadata": {},
     "output_type": "execute_result"
    },
    {
     "data": {
      "image/png": "[encoded data removed]",
      "text/plain": [
       "<Figure size 1152x576 with 1 Axes>"
      ]
     },
     "metadata": {
      "needs_background": "light"
     },
     "output_type": "display_data"
    }
   ],
   "source": [
    "df_new[df['LikeCount']<1000].groupby(['hours'])['LikeCount'].mean().plot.bar(title='Avg Number of Likes based on hour posted (not including Viral Tweets)', xlabel='Hour', ylabel='Avg Number of Likes', figsize=(16,8))"
   ]
  },
  {
   "cell_type": "code",
   "execution_count": 12,
   "id": "c7f73215-34b0-4e3d-9a98-f7ca5891e9ce",
   "metadata": {},
   "outputs": [
    {
     "data": {
      "text/plain": [
       "<AxesSubplot:title={'center':'Total number of tweets posted each hour'}, xlabel='Hour', ylabel='Number of Tweets'>"
      ]
     },
     "execution_count": 12,
     "metadata": {},
     "output_type": "execute_result"
    },
    {
     "data": {
      "image/png": "[encoded data removed]",
      "text/plain": [
       "<Figure size 1152x576 with 1 Axes>"
      ]
     },
     "metadata": {
      "needs_background": "light"
     },
     "output_type": "display_data"
    }
   ],
   "source": [
    "df_new.groupby(['hours'])['LikeCount'].count().plot.bar(title='Total number of tweets posted each hour', xlabel='Hour', ylabel='Number of Tweets', figsize=(16,8))"
   ]
  },
  {
   "cell_type": "code",
   "execution_count": 13,
   "id": "93b8b275-068c-44bf-8c19-37676b1ae51d",
   "metadata": {},
   "outputs": [
    {
     "data": {
      "text/plain": [
       "<AxesSubplot:title={'center':'Avg number of likes for each day of the week (without Viral Tweets)'}, xlabel='Day of the Week', ylabel='Number of Likes'>"
      ]
     },
     "execution_count": 13,
     "metadata": {},
     "output_type": "execute_result"
    },
    {
     "data": {
      "image/png": "[encoded data removed]",
      "text/plain": [
       "<Figure size 1152x576 with 1 Axes>"
      ]
     },
     "metadata": {
      "needs_background": "light"
     },
     "output_type": "display_data"
    }
   ],
   "source": [
    "df_new[df['LikeCount']<1000].groupby(['days'])['LikeCount'].mean().plot.bar(title='Avg number of likes for each day of the week (without Viral Tweets)', xlabel='Day of the Week', ylabel='Number of Likes', figsize=(16,8))"
   ]
  },
  {
   "cell_type": "code",
   "execution_count": 14,
   "id": "e24b1830",
   "metadata": {},
   "outputs": [
    {
     "data": {
      "text/plain": [
       "<AxesSubplot:title={'center':'Avg number of likes for each day of the week (with Viral Tweets)'}, xlabel='Day of the Week', ylabel='Number of Likes'>"
      ]
     },
     "execution_count": 14,
     "metadata": {},
     "output_type": "execute_result"
    },
    {
     "data": {
      "image/png": "[encoded data removed]",
      "text/plain": [
       "<Figure size 1152x576 with 1 Axes>"
      ]
     },
     "metadata": {
      "needs_background": "light"
     },
     "output_type": "display_data"
    }
   ],
   "source": [
    "df_new.groupby(['days'])['LikeCount'].mean().plot.bar(title='Avg number of likes for each day of the week (with Viral Tweets)', xlabel='Day of the Week', ylabel='Number of Likes', figsize=(16,8))"
   ]
  },
  {
   "cell_type": "code",
   "execution_count": 15,
   "id": "5d243f97-25bf-41fe-a59c-7dc5f560b596",
   "metadata": {},
   "outputs": [
    {
     "data": {
      "text/plain": [
       "<AxesSubplot:title={'center':'Total number of likes per day (without Viral Tweets)'}, xlabel='Day of the Week', ylabel='Number of Likes'>"
      ]
     },
     "execution_count": 15,
     "metadata": {},
     "output_type": "execute_result"
    },
    {
     "data": {
      "image/png": "[encoded data removed]",
      "text/plain": [
       "<Figure size 1152x576 with 1 Axes>"
      ]
     },
     "metadata": {
      "needs_background": "light"
     },
     "output_type": "display_data"
    }
   ],
   "source": [
    "df_new[df['LikeCount']<1000].groupby(['days'])['LikeCount'].sum().plot.bar(title='Total number of likes per day (without Viral Tweets)', xlabel='Day of the Week', ylabel='Number of Likes', figsize=(16,8))"
   ]
  },
  {
   "cell_type": "code",
   "execution_count": 16,
   "id": "15a1066f",
   "metadata": {},
   "outputs": [
    {
     "data": {
      "text/plain": [
       "<AxesSubplot:title={'center':'Total number of likes per day (without Viral Tweets)'}, xlabel='Day of the Week', ylabel='Number of Likes'>"
      ]
     },
     "execution_count": 16,
     "metadata": {},
     "output_type": "execute_result"
    },
    {
     "data": {
      "image/png": "[encoded data removed]",
      "text/plain": [
       "<Figure size 1152x576 with 1 Axes>"
      ]
     },
     "metadata": {
      "needs_background": "light"
     },
     "output_type": "display_data"
    }
   ],
   "source": [
    "df_new.groupby(['days'])['LikeCount'].sum().plot.bar(title='Total number of likes per day (without Viral Tweets)', xlabel='Day of the Week', ylabel='Number of Likes', figsize=(16,8))"
   ]
  }
 ],
 "metadata": {
  "kernelspec": {
   "display_name": "Python 3",
   "language": "python",
   "name": "python3"
  },
  "language_info": {
   "codemirror_mode": {
    "name": "ipython",
    "version": 3
   },
   "file_extension": ".py",
   "mimetype": "text/x-python",
   "name": "python",
   "nbconvert_exporter": "python",
   "pygments_lexer": "ipython3",
   "version": "3.8.8"
  }
 },
 "nbformat": 4,
 "nbformat_minor": 5
}
